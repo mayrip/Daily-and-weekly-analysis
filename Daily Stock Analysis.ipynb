{
 "cells": [
  {
   "cell_type": "markdown",
   "metadata": {},
   "source": [
    "# Daily and Weekly Returns Analysis"
   ]
  },
  {
   "cell_type": "code",
   "execution_count": 687,
   "metadata": {},
   "outputs": [],
   "source": [
    "#!pip install yfinance not needed"
   ]
  },
  {
   "cell_type": "code",
   "execution_count": 688,
   "metadata": {},
   "outputs": [
    {
     "name": "stdout",
     "output_type": "stream",
     "text": [
      "Requirement already satisfied: nsepy in c:\\users\\mayrip\\anaconda3\\lib\\site-packages (0.8)\n",
      "Requirement already satisfied: six in c:\\users\\mayrip\\anaconda3\\lib\\site-packages (from nsepy) (1.15.0)\n",
      "Requirement already satisfied: requests in c:\\users\\mayrip\\anaconda3\\lib\\site-packages (from nsepy) (2.24.0)\n",
      "Requirement already satisfied: pandas in c:\\users\\mayrip\\anaconda3\\lib\\site-packages (from nsepy) (1.0.5)\n",
      "Requirement already satisfied: beautifulsoup4 in c:\\users\\mayrip\\anaconda3\\lib\\site-packages (from nsepy) (4.9.1)\n",
      "Requirement already satisfied: numpy in c:\\users\\mayrip\\anaconda3\\lib\\site-packages (from nsepy) (1.19.5)\n",
      "Requirement already satisfied: click in c:\\users\\mayrip\\anaconda3\\lib\\site-packages (from nsepy) (7.1.2)\n",
      "Requirement already satisfied: lxml in c:\\users\\mayrip\\anaconda3\\lib\\site-packages (from nsepy) (4.5.2)\n",
      "Requirement already satisfied: urllib3!=1.25.0,!=1.25.1,<1.26,>=1.21.1 in c:\\users\\mayrip\\anaconda3\\lib\\site-packages (from requests->nsepy) (1.25.9)\n",
      "Requirement already satisfied: chardet<4,>=3.0.2 in c:\\users\\mayrip\\anaconda3\\lib\\site-packages (from requests->nsepy) (3.0.4)\n",
      "Requirement already satisfied: idna<3,>=2.5 in c:\\users\\mayrip\\anaconda3\\lib\\site-packages (from requests->nsepy) (2.10)\n",
      "Requirement already satisfied: certifi>=2017.4.17 in c:\\users\\mayrip\\anaconda3\\lib\\site-packages (from requests->nsepy) (2021.5.30)\n",
      "Requirement already satisfied: python-dateutil>=2.6.1 in c:\\users\\mayrip\\anaconda3\\lib\\site-packages (from pandas->nsepy) (2.8.1)\n",
      "Requirement already satisfied: pytz>=2017.2 in c:\\users\\mayrip\\anaconda3\\lib\\site-packages (from pandas->nsepy) (2020.1)\n",
      "Requirement already satisfied: soupsieve>1.2 in c:\\users\\mayrip\\anaconda3\\lib\\site-packages (from beautifulsoup4->nsepy) (2.0.1)\n"
     ]
    }
   ],
   "source": [
    "!pip install nsepy"
   ]
  },
  {
   "cell_type": "code",
   "execution_count": 689,
   "metadata": {},
   "outputs": [],
   "source": [
    "from datetime import date\n",
    "from nsepy import get_history\n",
    "import pandas as pd\n",
    "import pandas_datareader as pdr\n",
    "import matplotlib.pyplot as plt\n",
    "import seaborn as sns\n",
    "import numpy as np\n",
    "%matplotlib inline"
   ]
  },
  {
   "cell_type": "code",
   "execution_count": 690,
   "metadata": {},
   "outputs": [
    {
     "data": {
      "text/plain": [
       "\"\\nNifty = get_history(symbol='SBIN',\\n                   start=date(2015,1,1),\\n                   end=date(2021,7,30))\\n\""
      ]
     },
     "execution_count": 690,
     "metadata": {},
     "output_type": "execute_result"
    }
   ],
   "source": [
    "Nifty = get_history(symbol='NIFTY 50',start=date(2000,5,1),\n",
    "                   end=date(2021,7,30), index = True)\n",
    "\"\"\"\n",
    "Nifty = get_history(symbol='SBIN',\n",
    "                   start=date(2015,1,1),\n",
    "                   end=date(2021,7,30))\n",
    "\"\"\""
   ]
  },
  {
   "cell_type": "code",
   "execution_count": 691,
   "metadata": {},
   "outputs": [
    {
     "data": {
      "text/html": [
       "<div>\n",
       "<style scoped>\n",
       "    .dataframe tbody tr th:only-of-type {\n",
       "        vertical-align: middle;\n",
       "    }\n",
       "\n",
       "    .dataframe tbody tr th {\n",
       "        vertical-align: top;\n",
       "    }\n",
       "\n",
       "    .dataframe thead th {\n",
       "        text-align: right;\n",
       "    }\n",
       "</style>\n",
       "<table border=\"1\" class=\"dataframe\">\n",
       "  <thead>\n",
       "    <tr style=\"text-align: right;\">\n",
       "      <th></th>\n",
       "      <th>Open</th>\n",
       "      <th>High</th>\n",
       "      <th>Low</th>\n",
       "      <th>Close</th>\n",
       "      <th>Volume</th>\n",
       "      <th>Turnover</th>\n",
       "    </tr>\n",
       "    <tr>\n",
       "      <th>Date</th>\n",
       "      <th></th>\n",
       "      <th></th>\n",
       "      <th></th>\n",
       "      <th></th>\n",
       "      <th></th>\n",
       "      <th></th>\n",
       "    </tr>\n",
       "  </thead>\n",
       "  <tbody>\n",
       "    <tr>\n",
       "      <th>2000-05-02</th>\n",
       "      <td>1410.00</td>\n",
       "      <td>1421.50</td>\n",
       "      <td>1319.65</td>\n",
       "      <td>1333.45</td>\n",
       "      <td>39377730</td>\n",
       "      <td>1.889610e+10</td>\n",
       "    </tr>\n",
       "    <tr>\n",
       "      <th>2000-05-03</th>\n",
       "      <td>1330.15</td>\n",
       "      <td>1342.15</td>\n",
       "      <td>1258.10</td>\n",
       "      <td>1316.05</td>\n",
       "      <td>34709688</td>\n",
       "      <td>1.815260e+10</td>\n",
       "    </tr>\n",
       "    <tr>\n",
       "      <th>2000-05-04</th>\n",
       "      <td>1317.95</td>\n",
       "      <td>1385.15</td>\n",
       "      <td>1317.95</td>\n",
       "      <td>1380.55</td>\n",
       "      <td>29963970</td>\n",
       "      <td>1.527370e+10</td>\n",
       "    </tr>\n",
       "    <tr>\n",
       "      <th>2000-05-05</th>\n",
       "      <td>1381.90</td>\n",
       "      <td>1428.60</td>\n",
       "      <td>1381.90</td>\n",
       "      <td>1422.40</td>\n",
       "      <td>35555435</td>\n",
       "      <td>1.883380e+10</td>\n",
       "    </tr>\n",
       "    <tr>\n",
       "      <th>2000-05-08</th>\n",
       "      <td>1423.25</td>\n",
       "      <td>1436.60</td>\n",
       "      <td>1358.80</td>\n",
       "      <td>1365.05</td>\n",
       "      <td>23965671</td>\n",
       "      <td>2.058900e+10</td>\n",
       "    </tr>\n",
       "    <tr>\n",
       "      <th>...</th>\n",
       "      <td>...</td>\n",
       "      <td>...</td>\n",
       "      <td>...</td>\n",
       "      <td>...</td>\n",
       "      <td>...</td>\n",
       "      <td>...</td>\n",
       "    </tr>\n",
       "    <tr>\n",
       "      <th>2021-07-26</th>\n",
       "      <td>15849.30</td>\n",
       "      <td>15893.35</td>\n",
       "      <td>15797.00</td>\n",
       "      <td>15824.45</td>\n",
       "      <td>267076679</td>\n",
       "      <td>1.948718e+11</td>\n",
       "    </tr>\n",
       "    <tr>\n",
       "      <th>2021-07-27</th>\n",
       "      <td>15860.50</td>\n",
       "      <td>15881.55</td>\n",
       "      <td>15701.00</td>\n",
       "      <td>15746.45</td>\n",
       "      <td>311012065</td>\n",
       "      <td>2.611734e+11</td>\n",
       "    </tr>\n",
       "    <tr>\n",
       "      <th>2021-07-28</th>\n",
       "      <td>15761.55</td>\n",
       "      <td>15767.50</td>\n",
       "      <td>15513.45</td>\n",
       "      <td>15709.40</td>\n",
       "      <td>318601589</td>\n",
       "      <td>2.609048e+11</td>\n",
       "    </tr>\n",
       "    <tr>\n",
       "      <th>2021-07-29</th>\n",
       "      <td>15762.70</td>\n",
       "      <td>15817.35</td>\n",
       "      <td>15737.80</td>\n",
       "      <td>15778.45</td>\n",
       "      <td>401584915</td>\n",
       "      <td>2.946054e+11</td>\n",
       "    </tr>\n",
       "    <tr>\n",
       "      <th>2021-07-30</th>\n",
       "      <td>15800.60</td>\n",
       "      <td>15862.80</td>\n",
       "      <td>15744.85</td>\n",
       "      <td>15763.05</td>\n",
       "      <td>400021237</td>\n",
       "      <td>3.053963e+11</td>\n",
       "    </tr>\n",
       "  </tbody>\n",
       "</table>\n",
       "<p>5289 rows × 6 columns</p>\n",
       "</div>"
      ],
      "text/plain": [
       "                Open      High       Low     Close     Volume      Turnover\n",
       "Date                                                                       \n",
       "2000-05-02   1410.00   1421.50   1319.65   1333.45   39377730  1.889610e+10\n",
       "2000-05-03   1330.15   1342.15   1258.10   1316.05   34709688  1.815260e+10\n",
       "2000-05-04   1317.95   1385.15   1317.95   1380.55   29963970  1.527370e+10\n",
       "2000-05-05   1381.90   1428.60   1381.90   1422.40   35555435  1.883380e+10\n",
       "2000-05-08   1423.25   1436.60   1358.80   1365.05   23965671  2.058900e+10\n",
       "...              ...       ...       ...       ...        ...           ...\n",
       "2021-07-26  15849.30  15893.35  15797.00  15824.45  267076679  1.948718e+11\n",
       "2021-07-27  15860.50  15881.55  15701.00  15746.45  311012065  2.611734e+11\n",
       "2021-07-28  15761.55  15767.50  15513.45  15709.40  318601589  2.609048e+11\n",
       "2021-07-29  15762.70  15817.35  15737.80  15778.45  401584915  2.946054e+11\n",
       "2021-07-30  15800.60  15862.80  15744.85  15763.05  400021237  3.053963e+11\n",
       "\n",
       "[5289 rows x 6 columns]"
      ]
     },
     "execution_count": 691,
     "metadata": {},
     "output_type": "execute_result"
    }
   ],
   "source": [
    "Nifty"
   ]
  },
  {
   "cell_type": "code",
   "execution_count": 692,
   "metadata": {},
   "outputs": [
    {
     "data": {
      "text/html": [
       "<div>\n",
       "<style scoped>\n",
       "    .dataframe tbody tr th:only-of-type {\n",
       "        vertical-align: middle;\n",
       "    }\n",
       "\n",
       "    .dataframe tbody tr th {\n",
       "        vertical-align: top;\n",
       "    }\n",
       "\n",
       "    .dataframe thead th {\n",
       "        text-align: right;\n",
       "    }\n",
       "</style>\n",
       "<table border=\"1\" class=\"dataframe\">\n",
       "  <thead>\n",
       "    <tr style=\"text-align: right;\">\n",
       "      <th></th>\n",
       "      <th>Open</th>\n",
       "      <th>High</th>\n",
       "      <th>Low</th>\n",
       "      <th>Close</th>\n",
       "      <th>Volume</th>\n",
       "      <th>Turnover</th>\n",
       "    </tr>\n",
       "    <tr>\n",
       "      <th>Date</th>\n",
       "      <th></th>\n",
       "      <th></th>\n",
       "      <th></th>\n",
       "      <th></th>\n",
       "      <th></th>\n",
       "      <th></th>\n",
       "    </tr>\n",
       "  </thead>\n",
       "  <tbody>\n",
       "    <tr>\n",
       "      <th>2021-07-16</th>\n",
       "      <td>15958.35</td>\n",
       "      <td>15962.25</td>\n",
       "      <td>15882.60</td>\n",
       "      <td>15923.40</td>\n",
       "      <td>276298105</td>\n",
       "      <td>1.875813e+11</td>\n",
       "    </tr>\n",
       "    <tr>\n",
       "      <th>2021-07-19</th>\n",
       "      <td>15754.50</td>\n",
       "      <td>15836.90</td>\n",
       "      <td>15707.50</td>\n",
       "      <td>15752.40</td>\n",
       "      <td>242131813</td>\n",
       "      <td>1.808878e+11</td>\n",
       "    </tr>\n",
       "    <tr>\n",
       "      <th>2021-07-20</th>\n",
       "      <td>15703.95</td>\n",
       "      <td>15728.45</td>\n",
       "      <td>15578.55</td>\n",
       "      <td>15632.10</td>\n",
       "      <td>274284165</td>\n",
       "      <td>2.132955e+11</td>\n",
       "    </tr>\n",
       "    <tr>\n",
       "      <th>2021-07-22</th>\n",
       "      <td>15736.60</td>\n",
       "      <td>15834.80</td>\n",
       "      <td>15726.40</td>\n",
       "      <td>15824.05</td>\n",
       "      <td>265250867</td>\n",
       "      <td>2.398839e+11</td>\n",
       "    </tr>\n",
       "    <tr>\n",
       "      <th>2021-07-23</th>\n",
       "      <td>15856.80</td>\n",
       "      <td>15899.80</td>\n",
       "      <td>15768.40</td>\n",
       "      <td>15856.05</td>\n",
       "      <td>294098244</td>\n",
       "      <td>2.068582e+11</td>\n",
       "    </tr>\n",
       "    <tr>\n",
       "      <th>2021-07-26</th>\n",
       "      <td>15849.30</td>\n",
       "      <td>15893.35</td>\n",
       "      <td>15797.00</td>\n",
       "      <td>15824.45</td>\n",
       "      <td>267076679</td>\n",
       "      <td>1.948718e+11</td>\n",
       "    </tr>\n",
       "    <tr>\n",
       "      <th>2021-07-27</th>\n",
       "      <td>15860.50</td>\n",
       "      <td>15881.55</td>\n",
       "      <td>15701.00</td>\n",
       "      <td>15746.45</td>\n",
       "      <td>311012065</td>\n",
       "      <td>2.611734e+11</td>\n",
       "    </tr>\n",
       "    <tr>\n",
       "      <th>2021-07-28</th>\n",
       "      <td>15761.55</td>\n",
       "      <td>15767.50</td>\n",
       "      <td>15513.45</td>\n",
       "      <td>15709.40</td>\n",
       "      <td>318601589</td>\n",
       "      <td>2.609048e+11</td>\n",
       "    </tr>\n",
       "    <tr>\n",
       "      <th>2021-07-29</th>\n",
       "      <td>15762.70</td>\n",
       "      <td>15817.35</td>\n",
       "      <td>15737.80</td>\n",
       "      <td>15778.45</td>\n",
       "      <td>401584915</td>\n",
       "      <td>2.946054e+11</td>\n",
       "    </tr>\n",
       "    <tr>\n",
       "      <th>2021-07-30</th>\n",
       "      <td>15800.60</td>\n",
       "      <td>15862.80</td>\n",
       "      <td>15744.85</td>\n",
       "      <td>15763.05</td>\n",
       "      <td>400021237</td>\n",
       "      <td>3.053963e+11</td>\n",
       "    </tr>\n",
       "  </tbody>\n",
       "</table>\n",
       "</div>"
      ],
      "text/plain": [
       "                Open      High       Low     Close     Volume      Turnover\n",
       "Date                                                                       \n",
       "2021-07-16  15958.35  15962.25  15882.60  15923.40  276298105  1.875813e+11\n",
       "2021-07-19  15754.50  15836.90  15707.50  15752.40  242131813  1.808878e+11\n",
       "2021-07-20  15703.95  15728.45  15578.55  15632.10  274284165  2.132955e+11\n",
       "2021-07-22  15736.60  15834.80  15726.40  15824.05  265250867  2.398839e+11\n",
       "2021-07-23  15856.80  15899.80  15768.40  15856.05  294098244  2.068582e+11\n",
       "2021-07-26  15849.30  15893.35  15797.00  15824.45  267076679  1.948718e+11\n",
       "2021-07-27  15860.50  15881.55  15701.00  15746.45  311012065  2.611734e+11\n",
       "2021-07-28  15761.55  15767.50  15513.45  15709.40  318601589  2.609048e+11\n",
       "2021-07-29  15762.70  15817.35  15737.80  15778.45  401584915  2.946054e+11\n",
       "2021-07-30  15800.60  15862.80  15744.85  15763.05  400021237  3.053963e+11"
      ]
     },
     "execution_count": 692,
     "metadata": {},
     "output_type": "execute_result"
    }
   ],
   "source": [
    "Nifty.tail(10)"
   ]
  },
  {
   "cell_type": "code",
   "execution_count": 693,
   "metadata": {},
   "outputs": [
    {
     "data": {
      "text/html": [
       "<div>\n",
       "<style scoped>\n",
       "    .dataframe tbody tr th:only-of-type {\n",
       "        vertical-align: middle;\n",
       "    }\n",
       "\n",
       "    .dataframe tbody tr th {\n",
       "        vertical-align: top;\n",
       "    }\n",
       "\n",
       "    .dataframe thead th {\n",
       "        text-align: right;\n",
       "    }\n",
       "</style>\n",
       "<table border=\"1\" class=\"dataframe\">\n",
       "  <thead>\n",
       "    <tr style=\"text-align: right;\">\n",
       "      <th></th>\n",
       "      <th>Open</th>\n",
       "      <th>High</th>\n",
       "      <th>Low</th>\n",
       "      <th>Close</th>\n",
       "    </tr>\n",
       "    <tr>\n",
       "      <th>Date</th>\n",
       "      <th></th>\n",
       "      <th></th>\n",
       "      <th></th>\n",
       "      <th></th>\n",
       "    </tr>\n",
       "  </thead>\n",
       "  <tbody>\n",
       "    <tr>\n",
       "      <th>2000-05-02</th>\n",
       "      <td>1410.00</td>\n",
       "      <td>1421.50</td>\n",
       "      <td>1319.65</td>\n",
       "      <td>1333.45</td>\n",
       "    </tr>\n",
       "    <tr>\n",
       "      <th>2000-05-03</th>\n",
       "      <td>1330.15</td>\n",
       "      <td>1342.15</td>\n",
       "      <td>1258.10</td>\n",
       "      <td>1316.05</td>\n",
       "    </tr>\n",
       "    <tr>\n",
       "      <th>2000-05-04</th>\n",
       "      <td>1317.95</td>\n",
       "      <td>1385.15</td>\n",
       "      <td>1317.95</td>\n",
       "      <td>1380.55</td>\n",
       "    </tr>\n",
       "    <tr>\n",
       "      <th>2000-05-05</th>\n",
       "      <td>1381.90</td>\n",
       "      <td>1428.60</td>\n",
       "      <td>1381.90</td>\n",
       "      <td>1422.40</td>\n",
       "    </tr>\n",
       "    <tr>\n",
       "      <th>2000-05-08</th>\n",
       "      <td>1423.25</td>\n",
       "      <td>1436.60</td>\n",
       "      <td>1358.80</td>\n",
       "      <td>1365.05</td>\n",
       "    </tr>\n",
       "    <tr>\n",
       "      <th>...</th>\n",
       "      <td>...</td>\n",
       "      <td>...</td>\n",
       "      <td>...</td>\n",
       "      <td>...</td>\n",
       "    </tr>\n",
       "    <tr>\n",
       "      <th>2021-07-26</th>\n",
       "      <td>15849.30</td>\n",
       "      <td>15893.35</td>\n",
       "      <td>15797.00</td>\n",
       "      <td>15824.45</td>\n",
       "    </tr>\n",
       "    <tr>\n",
       "      <th>2021-07-27</th>\n",
       "      <td>15860.50</td>\n",
       "      <td>15881.55</td>\n",
       "      <td>15701.00</td>\n",
       "      <td>15746.45</td>\n",
       "    </tr>\n",
       "    <tr>\n",
       "      <th>2021-07-28</th>\n",
       "      <td>15761.55</td>\n",
       "      <td>15767.50</td>\n",
       "      <td>15513.45</td>\n",
       "      <td>15709.40</td>\n",
       "    </tr>\n",
       "    <tr>\n",
       "      <th>2021-07-29</th>\n",
       "      <td>15762.70</td>\n",
       "      <td>15817.35</td>\n",
       "      <td>15737.80</td>\n",
       "      <td>15778.45</td>\n",
       "    </tr>\n",
       "    <tr>\n",
       "      <th>2021-07-30</th>\n",
       "      <td>15800.60</td>\n",
       "      <td>15862.80</td>\n",
       "      <td>15744.85</td>\n",
       "      <td>15763.05</td>\n",
       "    </tr>\n",
       "  </tbody>\n",
       "</table>\n",
       "<p>5289 rows × 4 columns</p>\n",
       "</div>"
      ],
      "text/plain": [
       "                Open      High       Low     Close\n",
       "Date                                              \n",
       "2000-05-02   1410.00   1421.50   1319.65   1333.45\n",
       "2000-05-03   1330.15   1342.15   1258.10   1316.05\n",
       "2000-05-04   1317.95   1385.15   1317.95   1380.55\n",
       "2000-05-05   1381.90   1428.60   1381.90   1422.40\n",
       "2000-05-08   1423.25   1436.60   1358.80   1365.05\n",
       "...              ...       ...       ...       ...\n",
       "2021-07-26  15849.30  15893.35  15797.00  15824.45\n",
       "2021-07-27  15860.50  15881.55  15701.00  15746.45\n",
       "2021-07-28  15761.55  15767.50  15513.45  15709.40\n",
       "2021-07-29  15762.70  15817.35  15737.80  15778.45\n",
       "2021-07-30  15800.60  15862.80  15744.85  15763.05\n",
       "\n",
       "[5289 rows x 4 columns]"
      ]
     },
     "execution_count": 693,
     "metadata": {},
     "output_type": "execute_result"
    }
   ],
   "source": [
    "\n",
    "Nifty.drop(['Volume','Turnover'], axis =1)"
   ]
  },
  {
   "cell_type": "code",
   "execution_count": null,
   "metadata": {},
   "outputs": [],
   "source": []
  },
  {
   "cell_type": "code",
   "execution_count": 694,
   "metadata": {},
   "outputs": [
    {
     "data": {
      "image/png": "[encoded data removed]",
      "text/plain": [
       "<Figure size 720x504 with 1 Axes>"
      ]
     },
     "metadata": {
      "needs_background": "light"
     },
     "output_type": "display_data"
    }
   ],
   "source": [
    "Nifty['Close'].plot(figsize=(10,7), grid =True)\n",
    "plt.show()"
   ]
  },
  {
   "cell_type": "code",
   "execution_count": 695,
   "metadata": {},
   "outputs": [],
   "source": [
    "Nifty['intraday_returns'] = ((Nifty['Close']-Nifty['Open'])/Nifty['Open'])*100"
   ]
  },
  {
   "cell_type": "code",
   "execution_count": 696,
   "metadata": {},
   "outputs": [
    {
     "data": {
      "text/html": [
       "<div>\n",
       "<style scoped>\n",
       "    .dataframe tbody tr th:only-of-type {\n",
       "        vertical-align: middle;\n",
       "    }\n",
       "\n",
       "    .dataframe tbody tr th {\n",
       "        vertical-align: top;\n",
       "    }\n",
       "\n",
       "    .dataframe thead th {\n",
       "        text-align: right;\n",
       "    }\n",
       "</style>\n",
       "<table border=\"1\" class=\"dataframe\">\n",
       "  <thead>\n",
       "    <tr style=\"text-align: right;\">\n",
       "      <th></th>\n",
       "      <th>Open</th>\n",
       "      <th>High</th>\n",
       "      <th>Low</th>\n",
       "      <th>Close</th>\n",
       "      <th>Volume</th>\n",
       "      <th>Turnover</th>\n",
       "      <th>intraday_returns</th>\n",
       "    </tr>\n",
       "    <tr>\n",
       "      <th>Date</th>\n",
       "      <th></th>\n",
       "      <th></th>\n",
       "      <th></th>\n",
       "      <th></th>\n",
       "      <th></th>\n",
       "      <th></th>\n",
       "      <th></th>\n",
       "    </tr>\n",
       "  </thead>\n",
       "  <tbody>\n",
       "    <tr>\n",
       "      <th>2000-05-02</th>\n",
       "      <td>1410.00</td>\n",
       "      <td>1421.50</td>\n",
       "      <td>1319.65</td>\n",
       "      <td>1333.45</td>\n",
       "      <td>39377730</td>\n",
       "      <td>1.889610e+10</td>\n",
       "      <td>-5.429078</td>\n",
       "    </tr>\n",
       "    <tr>\n",
       "      <th>2000-05-03</th>\n",
       "      <td>1330.15</td>\n",
       "      <td>1342.15</td>\n",
       "      <td>1258.10</td>\n",
       "      <td>1316.05</td>\n",
       "      <td>34709688</td>\n",
       "      <td>1.815260e+10</td>\n",
       "      <td>-1.060031</td>\n",
       "    </tr>\n",
       "    <tr>\n",
       "      <th>2000-05-04</th>\n",
       "      <td>1317.95</td>\n",
       "      <td>1385.15</td>\n",
       "      <td>1317.95</td>\n",
       "      <td>1380.55</td>\n",
       "      <td>29963970</td>\n",
       "      <td>1.527370e+10</td>\n",
       "      <td>4.749801</td>\n",
       "    </tr>\n",
       "    <tr>\n",
       "      <th>2000-05-05</th>\n",
       "      <td>1381.90</td>\n",
       "      <td>1428.60</td>\n",
       "      <td>1381.90</td>\n",
       "      <td>1422.40</td>\n",
       "      <td>35555435</td>\n",
       "      <td>1.883380e+10</td>\n",
       "      <td>2.930748</td>\n",
       "    </tr>\n",
       "    <tr>\n",
       "      <th>2000-05-08</th>\n",
       "      <td>1423.25</td>\n",
       "      <td>1436.60</td>\n",
       "      <td>1358.80</td>\n",
       "      <td>1365.05</td>\n",
       "      <td>23965671</td>\n",
       "      <td>2.058900e+10</td>\n",
       "      <td>-4.089232</td>\n",
       "    </tr>\n",
       "  </tbody>\n",
       "</table>\n",
       "</div>"
      ],
      "text/plain": [
       "               Open     High      Low    Close    Volume      Turnover  \\\n",
       "Date                                                                     \n",
       "2000-05-02  1410.00  1421.50  1319.65  1333.45  39377730  1.889610e+10   \n",
       "2000-05-03  1330.15  1342.15  1258.10  1316.05  34709688  1.815260e+10   \n",
       "2000-05-04  1317.95  1385.15  1317.95  1380.55  29963970  1.527370e+10   \n",
       "2000-05-05  1381.90  1428.60  1381.90  1422.40  35555435  1.883380e+10   \n",
       "2000-05-08  1423.25  1436.60  1358.80  1365.05  23965671  2.058900e+10   \n",
       "\n",
       "            intraday_returns  \n",
       "Date                          \n",
       "2000-05-02         -5.429078  \n",
       "2000-05-03         -1.060031  \n",
       "2000-05-04          4.749801  \n",
       "2000-05-05          2.930748  \n",
       "2000-05-08         -4.089232  "
      ]
     },
     "execution_count": 696,
     "metadata": {},
     "output_type": "execute_result"
    }
   ],
   "source": [
    "Nifty.head()"
   ]
  },
  {
   "cell_type": "code",
   "execution_count": 697,
   "metadata": {},
   "outputs": [
    {
     "data": {
      "text/plain": [
       "<matplotlib.axes._subplots.AxesSubplot at 0x220f646b0a0>"
      ]
     },
     "execution_count": 697,
     "metadata": {},
     "output_type": "execute_result"
    },
    {
     "data": {
      "image/png": "[encoded data removed]",
      "text/plain": [
       "<Figure size 432x288 with 1 Axes>"
      ]
     },
     "metadata": {
      "needs_background": "light"
     },
     "output_type": "display_data"
    }
   ],
   "source": [
    "sns.kdeplot(Nifty.intraday_returns)"
   ]
  },
  {
   "cell_type": "code",
   "execution_count": 698,
   "metadata": {},
   "outputs": [],
   "source": [
    "sns.set_style('darkgrid')"
   ]
  },
  {
   "cell_type": "code",
   "execution_count": 699,
   "metadata": {},
   "outputs": [
    {
     "data": {
      "text/plain": [
       "<matplotlib.axes._subplots.AxesSubplot at 0x220f647aa90>"
      ]
     },
     "execution_count": 699,
     "metadata": {},
     "output_type": "execute_result"
    },
    {
     "data": {
      "image/png": "[encoded data removed]",
      "text/plain": [
       "<Figure size 864x576 with 1 Axes>"
      ]
     },
     "metadata": {},
     "output_type": "display_data"
    }
   ],
   "source": [
    "Nifty.intraday_returns.plot(figsize=(12,8))"
   ]
  },
  {
   "cell_type": "code",
   "execution_count": 700,
   "metadata": {},
   "outputs": [
    {
     "name": "stderr",
     "output_type": "stream",
     "text": [
      "C:\\Users\\Mayrip\\anaconda3\\lib\\site-packages\\seaborn\\distributions.py:2557: FutureWarning: `distplot` is a deprecated function and will be removed in a future version. Please adapt your code to use either `displot` (a figure-level function with similar flexibility) or `histplot` (an axes-level function for histograms).\n",
      "  warnings.warn(msg, FutureWarning)\n"
     ]
    },
    {
     "data": {
      "text/plain": [
       "<matplotlib.axes._subplots.AxesSubplot at 0x220f6456af0>"
      ]
     },
     "execution_count": 700,
     "metadata": {},
     "output_type": "execute_result"
    },
    {
     "data": {
      "image/png": "[encoded data removed]",
      "text/plain": [
       "<Figure size 432x288 with 1 Axes>"
      ]
     },
     "metadata": {},
     "output_type": "display_data"
    }
   ],
   "source": [
    "sns.distplot(Nifty.intraday_returns)"
   ]
  },
  {
   "cell_type": "code",
   "execution_count": 701,
   "metadata": {},
   "outputs": [
    {
     "data": {
      "text/plain": [
       "<matplotlib.axes._subplots.AxesSubplot at 0x220f45d34c0>"
      ]
     },
     "execution_count": 701,
     "metadata": {},
     "output_type": "execute_result"
    },
    {
     "data": {
      "image/png": "[encoded data removed]",
      "text/plain": [
       "<Figure size 432x288 with 1 Axes>"
      ]
     },
     "metadata": {},
     "output_type": "display_data"
    }
   ],
   "source": [
    "sns.histplot(Nifty.intraday_returns)"
   ]
  },
  {
   "cell_type": "code",
   "execution_count": 702,
   "metadata": {},
   "outputs": [
    {
     "data": {
      "text/plain": [
       "'0.11.1'"
      ]
     },
     "execution_count": 702,
     "metadata": {},
     "output_type": "execute_result"
    }
   ],
   "source": [
    "sns.__version__"
   ]
  },
  {
   "cell_type": "code",
   "execution_count": 703,
   "metadata": {},
   "outputs": [
    {
     "data": {
      "text/plain": [
       "5289"
      ]
     },
     "execution_count": 703,
     "metadata": {},
     "output_type": "execute_result"
    }
   ],
   "source": [
    "\n",
    "len(Nifty)\n",
    "    "
   ]
  },
  {
   "cell_type": "markdown",
   "metadata": {},
   "source": [
    "# Weekly Nifty movements"
   ]
  },
  {
   "cell_type": "markdown",
   "metadata": {},
   "source": [
    "https://stackoverflow.com/questions/34597926/converting-daily-stock-data-to-weekly-based-via-pandas-in-python"
   ]
  },
  {
   "cell_type": "code",
   "execution_count": 704,
   "metadata": {},
   "outputs": [],
   "source": [
    "\n",
    "Nifty.index = pd.to_datetime(Nifty.index)\n",
    "Nifty.set_index(Nifty.index, inplace=True)\n",
    "Nifty.sort_index(inplace=True)\n",
    "\n",
    "def take_first(array_like):\n",
    "    return array_like[0]\n",
    "\n",
    "def take_last(array_like):\n",
    "    return array_like[-1]\n",
    "output = Nifty.resample('W').agg({'Open': 'first', \n",
    "                          'High': 'max',\n",
    "                          'Low': 'min',\n",
    "                          'Close': 'last',\n",
    "                          'Volume': 'sum'}) \n",
    "output.index = output.index + pd.DateOffset(days=-6)\n",
    " # to put the labels to Monday\n",
    "\n",
    "output = output[['Open', 'High', 'Low', 'Close', 'Volume']]"
   ]
  },
  {
   "cell_type": "code",
   "execution_count": 705,
   "metadata": {},
   "outputs": [
    {
     "data": {
      "text/html": [
       "<div>\n",
       "<style scoped>\n",
       "    .dataframe tbody tr th:only-of-type {\n",
       "        vertical-align: middle;\n",
       "    }\n",
       "\n",
       "    .dataframe tbody tr th {\n",
       "        vertical-align: top;\n",
       "    }\n",
       "\n",
       "    .dataframe thead th {\n",
       "        text-align: right;\n",
       "    }\n",
       "</style>\n",
       "<table border=\"1\" class=\"dataframe\">\n",
       "  <thead>\n",
       "    <tr style=\"text-align: right;\">\n",
       "      <th></th>\n",
       "      <th>Open</th>\n",
       "      <th>High</th>\n",
       "      <th>Low</th>\n",
       "      <th>Close</th>\n",
       "      <th>Volume</th>\n",
       "    </tr>\n",
       "    <tr>\n",
       "      <th>Date</th>\n",
       "      <th></th>\n",
       "      <th></th>\n",
       "      <th></th>\n",
       "      <th></th>\n",
       "      <th></th>\n",
       "    </tr>\n",
       "  </thead>\n",
       "  <tbody>\n",
       "    <tr>\n",
       "      <th>2021-06-28</th>\n",
       "      <td>15915.35</td>\n",
       "      <td>15915.65</td>\n",
       "      <td>15635.95</td>\n",
       "      <td>15722.20</td>\n",
       "      <td>1357550962</td>\n",
       "    </tr>\n",
       "    <tr>\n",
       "      <th>2021-07-05</th>\n",
       "      <td>15793.40</td>\n",
       "      <td>15914.20</td>\n",
       "      <td>15632.75</td>\n",
       "      <td>15689.80</td>\n",
       "      <td>1478929402</td>\n",
       "    </tr>\n",
       "    <tr>\n",
       "      <th>2021-07-12</th>\n",
       "      <td>15766.80</td>\n",
       "      <td>15962.25</td>\n",
       "      <td>15644.75</td>\n",
       "      <td>15923.40</td>\n",
       "      <td>1264022543</td>\n",
       "    </tr>\n",
       "    <tr>\n",
       "      <th>2021-07-19</th>\n",
       "      <td>15754.50</td>\n",
       "      <td>15899.80</td>\n",
       "      <td>15578.55</td>\n",
       "      <td>15856.05</td>\n",
       "      <td>1075765089</td>\n",
       "    </tr>\n",
       "    <tr>\n",
       "      <th>2021-07-26</th>\n",
       "      <td>15849.30</td>\n",
       "      <td>15893.35</td>\n",
       "      <td>15513.45</td>\n",
       "      <td>15763.05</td>\n",
       "      <td>1698296485</td>\n",
       "    </tr>\n",
       "  </tbody>\n",
       "</table>\n",
       "</div>"
      ],
      "text/plain": [
       "                Open      High       Low     Close      Volume\n",
       "Date                                                          \n",
       "2021-06-28  15915.35  15915.65  15635.95  15722.20  1357550962\n",
       "2021-07-05  15793.40  15914.20  15632.75  15689.80  1478929402\n",
       "2021-07-12  15766.80  15962.25  15644.75  15923.40  1264022543\n",
       "2021-07-19  15754.50  15899.80  15578.55  15856.05  1075765089\n",
       "2021-07-26  15849.30  15893.35  15513.45  15763.05  1698296485"
      ]
     },
     "execution_count": 705,
     "metadata": {},
     "output_type": "execute_result"
    }
   ],
   "source": [
    "output.tail()"
   ]
  },
  {
   "cell_type": "code",
   "execution_count": 706,
   "metadata": {},
   "outputs": [],
   "source": [
    "output['Weekly_returns'] = ((output['Close']-output['Open'])/output['Open'])*100"
   ]
  },
  {
   "cell_type": "code",
   "execution_count": 707,
   "metadata": {},
   "outputs": [
    {
     "data": {
      "text/plain": [
       "<matplotlib.axes._subplots.AxesSubplot at 0x220f45bcac0>"
      ]
     },
     "execution_count": 707,
     "metadata": {},
     "output_type": "execute_result"
    },
    {
     "data": {
      "image/png": "[encoded data removed]",
      "text/plain": [
       "<Figure size 864x576 with 1 Axes>"
      ]
     },
     "metadata": {},
     "output_type": "display_data"
    }
   ],
   "source": [
    "output.Weekly_returns.plot(figsize=(12,8))"
   ]
  },
  {
   "cell_type": "code",
   "execution_count": 708,
   "metadata": {},
   "outputs": [],
   "source": [
    "total_week = len(output)"
   ]
  },
  {
   "cell_type": "code",
   "execution_count": 709,
   "metadata": {},
   "outputs": [],
   "source": [
    "positive_week = len(output[output['Weekly_returns']>0])"
   ]
  },
  {
   "cell_type": "code",
   "execution_count": 710,
   "metadata": {},
   "outputs": [],
   "source": [
    "neg_week = len(output[output['Weekly_returns']<0])"
   ]
  },
  {
   "cell_type": "code",
   "execution_count": 711,
   "metadata": {},
   "outputs": [
    {
     "data": {
      "text/plain": [
       "<matplotlib.axes._subplots.AxesSubplot at 0x220f45fe250>"
      ]
     },
     "execution_count": 711,
     "metadata": {},
     "output_type": "execute_result"
    },
    {
     "data": {
      "image/png": "[encoded data removed]",
      "text/plain": [
       "<Figure size 432x288 with 1 Axes>"
      ]
     },
     "metadata": {},
     "output_type": "display_data"
    }
   ],
   "source": [
    "sns.histplot(output.Weekly_returns)"
   ]
  },
  {
   "cell_type": "code",
   "execution_count": 712,
   "metadata": {},
   "outputs": [
    {
     "name": "stderr",
     "output_type": "stream",
     "text": [
      "C:\\Users\\Mayrip\\anaconda3\\lib\\site-packages\\seaborn\\distributions.py:2557: FutureWarning: `distplot` is a deprecated function and will be removed in a future version. Please adapt your code to use either `displot` (a figure-level function with similar flexibility) or `histplot` (an axes-level function for histograms).\n",
      "  warnings.warn(msg, FutureWarning)\n"
     ]
    },
    {
     "data": {
      "text/plain": [
       "<matplotlib.axes._subplots.AxesSubplot at 0x220f4a5ae50>"
      ]
     },
     "execution_count": 712,
     "metadata": {},
     "output_type": "execute_result"
    },
    {
     "data": {
      "image/png": "[encoded data removed]",
      "text/plain": [
       "<Figure size 432x288 with 1 Axes>"
      ]
     },
     "metadata": {},
     "output_type": "display_data"
    }
   ],
   "source": [
    "sns.distplot(output.Weekly_returns)"
   ]
  },
  {
   "cell_type": "code",
   "execution_count": 713,
   "metadata": {},
   "outputs": [
    {
     "name": "stdout",
     "output_type": "stream",
     "text": [
      "Total : \n",
      " 1109 \n",
      "+ve :\n",
      " 611 \n",
      " -ve: \n",
      " 497\n"
     ]
    }
   ],
   "source": [
    "print(\"Total : \\n\", total_week,\"\\n+ve :\\n\",positive_week,\"\\n -ve: \\n\",neg_week)"
   ]
  },
  {
   "cell_type": "code",
   "execution_count": 714,
   "metadata": {},
   "outputs": [],
   "source": [
    "pct_positive = (positive_week/total_week)*100\n",
    "pct_negative = (neg_week/total_week)*100"
   ]
  },
  {
   "cell_type": "code",
   "execution_count": 715,
   "metadata": {
    "scrolled": true
   },
   "outputs": [],
   "source": [
    "s = total_week, positive_week,neg_week,pct_positive, pct_negative\n",
    "weekly_conclusion =pd.DataFrame(data =np.asarray(list(s)).reshape(1,5), columns =['total_week', 'positive_week', 'neg_week','pct_positive','pct_negative']) #,columns=['total_week', 'positive_week', 'neg_week']"
   ]
  },
  {
   "cell_type": "code",
   "execution_count": 716,
   "metadata": {},
   "outputs": [],
   "source": [
    "weekly_conclusion[\"pct_between_mod3\"] =100*(len(output[(output['Weekly_returns']<3) & (output['Weekly_returns']>-3)])/total_week)"
   ]
  },
  {
   "cell_type": "code",
   "execution_count": 717,
   "metadata": {},
   "outputs": [
    {
     "data": {
      "text/html": [
       "<div>\n",
       "<style scoped>\n",
       "    .dataframe tbody tr th:only-of-type {\n",
       "        vertical-align: middle;\n",
       "    }\n",
       "\n",
       "    .dataframe tbody tr th {\n",
       "        vertical-align: top;\n",
       "    }\n",
       "\n",
       "    .dataframe thead th {\n",
       "        text-align: right;\n",
       "    }\n",
       "</style>\n",
       "<table border=\"1\" class=\"dataframe\">\n",
       "  <thead>\n",
       "    <tr style=\"text-align: right;\">\n",
       "      <th></th>\n",
       "      <th>total_week</th>\n",
       "      <th>positive_week</th>\n",
       "      <th>neg_week</th>\n",
       "      <th>pct_positive</th>\n",
       "      <th>pct_negative</th>\n",
       "      <th>pct_between_mod3</th>\n",
       "    </tr>\n",
       "  </thead>\n",
       "  <tbody>\n",
       "    <tr>\n",
       "      <th>0</th>\n",
       "      <td>1109.0</td>\n",
       "      <td>611.0</td>\n",
       "      <td>497.0</td>\n",
       "      <td>55.09468</td>\n",
       "      <td>44.815149</td>\n",
       "      <td>74.8422</td>\n",
       "    </tr>\n",
       "  </tbody>\n",
       "</table>\n",
       "</div>"
      ],
      "text/plain": [
       "   total_week  positive_week  neg_week  pct_positive  pct_negative  \\\n",
       "0      1109.0          611.0     497.0      55.09468     44.815149   \n",
       "\n",
       "   pct_between_mod3  \n",
       "0           74.8422  "
      ]
     },
     "execution_count": 717,
     "metadata": {},
     "output_type": "execute_result"
    }
   ],
   "source": [
    "weekly_conclusion"
   ]
  },
  {
   "cell_type": "code",
   "execution_count": 718,
   "metadata": {},
   "outputs": [],
   "source": [
    "weekly_conclusion[\"pct_between_mod2\"] =100*(len(output[(output['Weekly_returns']<2) & (output['Weekly_returns']>-2)])/total_week)\n",
    "weekly_conclusion[\"pct_between_mod2.5\"] =100*(len(output[(output['Weekly_returns']<2.5) & (output['Weekly_returns']>-2.5)])/total_week)\n",
    "weekly_conclusion[\"pct_between_mod1.5\"] =100*(len(output[(output['Weekly_returns']<1.5) & (output['Weekly_returns']>-1.5)])/total_week)"
   ]
  },
  {
   "cell_type": "code",
   "execution_count": 719,
   "metadata": {},
   "outputs": [
    {
     "data": {
      "text/html": [
       "<div>\n",
       "<style scoped>\n",
       "    .dataframe tbody tr th:only-of-type {\n",
       "        vertical-align: middle;\n",
       "    }\n",
       "\n",
       "    .dataframe tbody tr th {\n",
       "        vertical-align: top;\n",
       "    }\n",
       "\n",
       "    .dataframe thead th {\n",
       "        text-align: right;\n",
       "    }\n",
       "</style>\n",
       "<table border=\"1\" class=\"dataframe\">\n",
       "  <thead>\n",
       "    <tr style=\"text-align: right;\">\n",
       "      <th></th>\n",
       "      <th>total_week</th>\n",
       "      <th>positive_week</th>\n",
       "      <th>neg_week</th>\n",
       "      <th>pct_positive</th>\n",
       "      <th>pct_negative</th>\n",
       "      <th>pct_between_mod3</th>\n",
       "      <th>pct_between_mod2</th>\n",
       "      <th>pct_between_mod2.5</th>\n",
       "      <th>pct_between_mod1.5</th>\n",
       "    </tr>\n",
       "  </thead>\n",
       "  <tbody>\n",
       "    <tr>\n",
       "      <th>0</th>\n",
       "      <td>1109.0</td>\n",
       "      <td>611.0</td>\n",
       "      <td>497.0</td>\n",
       "      <td>55.09468</td>\n",
       "      <td>44.815149</td>\n",
       "      <td>74.8422</td>\n",
       "      <td>58.070334</td>\n",
       "      <td>67.177638</td>\n",
       "      <td>46.348061</td>\n",
       "    </tr>\n",
       "  </tbody>\n",
       "</table>\n",
       "</div>"
      ],
      "text/plain": [
       "   total_week  positive_week  neg_week  pct_positive  pct_negative  \\\n",
       "0      1109.0          611.0     497.0      55.09468     44.815149   \n",
       "\n",
       "   pct_between_mod3  pct_between_mod2  pct_between_mod2.5  pct_between_mod1.5  \n",
       "0           74.8422         58.070334           67.177638           46.348061  "
      ]
     },
     "execution_count": 719,
     "metadata": {},
     "output_type": "execute_result"
    }
   ],
   "source": [
    "weekly_conclusion"
   ]
  },
  {
   "cell_type": "markdown",
   "metadata": {},
   "source": [
    "# Conclusion"
   ]
  },
  {
   "cell_type": "markdown",
   "metadata": {},
   "source": [
    "This note book aims to give an estimate of safe range for option writing, traders(Option writers) might find it usefull to make sound trading decisions.\n",
    "Things to note :\n",
    "1. The drawdowns in this strategy is high and one must have SL/ Hedges to protect oneself from rare but hugely impacting adverse market scenario. \n",
    "2. It is also recommended not to use this in times of high sentiment event like Budgets, election etc. even if done should OTM should be far away from your usual rate (PS. you might get good premiums there as well if IV is high)"
   ]
  }
 ],
 "metadata": {
  "kernelspec": {
   "display_name": "Python 3",
   "language": "python",
   "name": "python3"
  },
  "language_info": {
   "codemirror_mode": {
    "name": "ipython",
    "version": 3
   },
   "file_extension": ".py",
   "mimetype": "text/x-python",
   "name": "python",
   "nbconvert_exporter": "python",
   "pygments_lexer": "ipython3",
   "version": "3.8.3"
  }
 },
 "nbformat": 4,
 "nbformat_minor": 4
}
